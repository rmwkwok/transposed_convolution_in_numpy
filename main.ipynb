{
 "cells": [
  {
   "cell_type": "code",
   "execution_count": 1,
   "id": "b270be17-ea54-4eb0-9622-2129280c4301",
   "metadata": {
    "tags": []
   },
   "outputs": [],
   "source": [
    "import numpy as np\n",
    "from tests import test_normal_convolution, test_transposed_convolution\n",
    "from conv2d_transpose_numpy import numpy_conv2d, numpy_conv2d_transpose, \\\n",
    "                                   compute_outputs_shape"
   ]
  },
  {
   "cell_type": "code",
   "execution_count": 2,
   "id": "3e8e6822-ca3a-4b56-a86c-ab26a95d60e5",
   "metadata": {
    "tags": []
   },
   "outputs": [
    {
     "name": "stdout",
     "output_type": "stream",
     "text": [
      "Normal Convolution tests\n",
      "\n",
      "AllClose Check: TensorFlow vs Numpy: Passed\n",
      "AllClose Check: Torch vs Numpy: Passed\n",
      "\n",
      "Output Shapes:\n",
      "Numpy: (4, 2, 3, 3)\n",
      "PyTorch: (4, 2, 3, 3)\n",
      "Tensorflow: (4, 2, 3, 3)\n"
     ]
    }
   ],
   "source": [
    "strides = 1\n",
    "inputs_shape = (4, 3, 5, 5) #(Samples, N Channels, Height, Width)\n",
    "kernels_shape = (2, 3, 3, 3) #(N Kernels, N Channels, Height, Width)\n",
    "\n",
    "rng = np.random.default_rng(10)\n",
    "inputs = rng.random(inputs_shape)\n",
    "kernels = rng.random(kernels_shape)\n",
    "\n",
    "test_normal_convolution(inputs, kernels, strides, print_arrays=False)"
   ]
  },
  {
   "cell_type": "code",
   "execution_count": 3,
   "id": "efd6b1f4-f6ca-48c1-8efa-95ef66e57376",
   "metadata": {},
   "outputs": [
    {
     "name": "stdout",
     "output_type": "stream",
     "text": [
      "Transposed Convolution tests\n",
      "\n",
      "AllClose Check: Torch vs Numpy: Passed\n",
      "\n",
      "Output Shapes:\n",
      "Numpy: (1, 1, 3, 3)\n",
      "PyTorch: (1, 1, 3, 3)\n",
      "\n",
      "Various Tensorflow Output Shapes:\n",
      "padding='valid' output_padding=None (1, 1, 5, 5)\n",
      "padding='same'  output_padding=None (1, 1, 4, 4)\n",
      "padding='valid' output_padding=0    (1, 1, 5, 5)\n",
      "padding='same'  output_padding=0    (1, 1, 3, 3)\n"
     ]
    }
   ],
   "source": [
    "strides = 2\n",
    "padding = 1\n",
    "\n",
    "inputs_shape = (1, 4, 2, 2) #(Samples, N Channels, Height, Width)\n",
    "kernels_shape = (4, 1, 3, 3) #(N Channels, N Kernels, Height, Width)\n",
    "\n",
    "rng = np.random.default_rng(10)\n",
    "inputs = rng.random(inputs_shape)\n",
    "kernels = rng.random(kernels_shape)\n",
    "\n",
    "test_transposed_convolution(inputs, kernels, strides, padding, \n",
    "                            print_arrays=False)"
   ]
  },
  {
   "cell_type": "code",
   "execution_count": 4,
   "id": "37fec190-3b26-4fd8-8749-8ea30fd3b797",
   "metadata": {},
   "outputs": [],
   "source": [
    "# strides = 1\n",
    "# padding = 1\n",
    "\n",
    "# inputs_shape = (1, 2, 5, 5) #(Samples, N Channels, Height, Width)\n",
    "# kernels_shape = (4, 2, 3, 3) #(N Kernels, N Channels, Height, Width)\n",
    "\n",
    "# rng = np.random.default_rng(10)\n",
    "# inputs = rng.random(inputs_shape)\n",
    "# kernels = rng.random(kernels_shape)\n",
    "\n",
    "# outputs, normal_kernel = numpy_conv2d(\n",
    "#     inputs, kernels, strides, padding, return_kernel=True)\n",
    "\n",
    "# transposed_out_shape = compute_outputs_shape(\n",
    "#     outputs, kernels, strides, 'transposed')\n",
    "\n",
    "# transposed_out, transposed_kernel = numpy_conv2d_transpose(\n",
    "#     outputs, kernels, strides, transposed_out_shape, padding, return_kernel=True)\n",
    "\n",
    "# print(outputs.shape)\n",
    "# print(inputs_shape, transposed_out.shape)\n",
    "# print(normal_kernel.transpose().shape, transposed_kernel.shape)"
   ]
  }
 ],
 "metadata": {
  "kernelspec": {
   "display_name": "Python 3 (ipykernel)",
   "language": "python",
   "name": "python3"
  },
  "language_info": {
   "codemirror_mode": {
    "name": "ipython",
    "version": 3
   },
   "file_extension": ".py",
   "mimetype": "text/x-python",
   "name": "python",
   "nbconvert_exporter": "python",
   "pygments_lexer": "ipython3",
   "version": "3.10.6"
  }
 },
 "nbformat": 4,
 "nbformat_minor": 5
}
